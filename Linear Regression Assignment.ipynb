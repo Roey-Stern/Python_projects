{
 "cells": [
  {
   "cell_type": "code",
   "execution_count": 3,
   "id": "700810d8-c2d5-4e64-bb04-a44f14570c21",
   "metadata": {},
   "outputs": [],
   "source": [
    "import pandas as pd\n",
    "import numpy as np\n",
    "from matplotlib import pyplot as plt\n",
    "from sklearn.linear_model import LinearRegression"
   ]
  },
  {
   "cell_type": "code",
   "execution_count": 4,
   "id": "f2a0cd38-b2cc-49e3-ab8c-faa11aec9f81",
   "metadata": {},
   "outputs": [
    {
     "data": {
      "text/plain": [
       "Symbol                      0\n",
       "Date                        0\n",
       "Open                        0\n",
       "High                        0\n",
       "Low                         0\n",
       "Close                       0\n",
       "Volume                      0\n",
       "Yesterday Volume            0\n",
       "Tomorrows Percent Change    0\n",
       "dtype: int64"
      ]
     },
     "execution_count": 4,
     "metadata": {},
     "output_type": "execute_result"
    }
   ],
   "source": [
    "stocks = pd.read_csv('stocks.csv')\n",
    "stocks = stocks.dropna()\n",
    "stocks.isnull().sum()"
   ]
  },
  {
   "cell_type": "code",
   "execution_count": 5,
   "id": "4a8430c0-b811-461d-9d4a-f20527b04645",
   "metadata": {},
   "outputs": [],
   "source": [
    "from sklearn.model_selection import train_test_split"
   ]
  },
  {
   "cell_type": "code",
   "execution_count": 6,
   "id": "021cce53-9a1b-48c5-9f7c-87cc4b14195b",
   "metadata": {},
   "outputs": [],
   "source": [
    "X = stocks[['Open']]\n",
    "y = stocks['Low']"
   ]
  },
  {
   "cell_type": "code",
   "execution_count": 7,
   "id": "73f82515-83b8-4202-a665-8c1aae22dbb0",
   "metadata": {},
   "outputs": [],
   "source": [
    "from sklearn.model_selection import train_test_split\n",
    "X_train, X_test, y_train, y_test = train_test_split(X, y, test_size=0.2, random_state=36)"
   ]
  },
  {
   "cell_type": "code",
   "execution_count": 8,
   "id": "162aeb6c-a370-4b1f-9a9d-db607f60de33",
   "metadata": {},
   "outputs": [
    {
     "data": {
      "image/png": "[encoded data removed]",
      "text/plain": [
       "<Figure size 432x288 with 1 Axes>"
      ]
     },
     "metadata": {
      "needs_background": "light"
     },
     "output_type": "display_data"
    }
   ],
   "source": [
    "plt.scatter(X,y,s=5)\n",
    "plt.xlabel('Open')\n",
    "plt.ylabel('Low')\n",
    "plt.show()"
   ]
  },
  {
   "cell_type": "code",
   "execution_count": 9,
   "id": "f3fbea60-75b7-4b0a-8ac5-acd014f99866",
   "metadata": {},
   "outputs": [
    {
     "data": {
      "text/plain": [
       "0.9997252282131146"
      ]
     },
     "execution_count": 9,
     "metadata": {},
     "output_type": "execute_result"
    }
   ],
   "source": [
    "model = LinearRegression()\n",
    "model.fit(X_train,y_train)\n",
    "\n",
    "model.score(X_train,y_train)"
   ]
  },
  {
   "cell_type": "code",
   "execution_count": 12,
   "id": "ba33daab-df10-461b-8db6-de550ccfd73a",
   "metadata": {},
   "outputs": [
    {
     "name": "stdout",
     "output_type": "stream",
     "text": [
      "Square error is 0.999, indicating a very high correlation between the 'Open' and 'Low' values. By Roey Stern.\n"
     ]
    }
   ],
   "source": [
    "print('The square error is 0.999, indicating a very high correlation between the \\'Open\\' and \\'Low\\' values. By Roey Stern.')"
   ]
  }
 ],
 "metadata": {
  "kernelspec": {
   "display_name": "Python 3 (ipykernel)",
   "language": "python",
   "name": "python3"
  },
  "language_info": {
   "codemirror_mode": {
    "name": "ipython",
    "version": 3
   },
   "file_extension": ".py",
   "mimetype": "text/x-python",
   "name": "python",
   "nbconvert_exporter": "python",
   "pygments_lexer": "ipython3",
   "version": "3.9.6"
  }
 },
 "nbformat": 4,
 "nbformat_minor": 5
}
