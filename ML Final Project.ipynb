{
 "cells": [
  {
   "cell_type": "markdown",
   "id": "dcb57853-0065-4f05-98aa-640b47aaf4c0",
   "metadata": {
    "tags": []
   },
   "source": [
    "# Final Project - Code | Roey Stern"
   ]
  },
  {
   "cell_type": "code",
   "execution_count": 1,
   "id": "006064e8-d738-4545-aeee-eae667556d6f",
   "metadata": {},
   "outputs": [],
   "source": [
    "import numpy as np\n",
    "import pandas as pd"
   ]
  },
  {
   "cell_type": "code",
   "execution_count": 3,
   "id": "19cb5714-83e5-4976-af49-86c90715c7d1",
   "metadata": {},
   "outputs": [],
   "source": [
    "data = pd.read_csv('CO2 Emission.csv')"
   ]
  },
  {
   "cell_type": "markdown",
   "id": "335348cf-44ae-4576-a676-ed6cd441796e",
   "metadata": {},
   "source": [
    "## Building The Dataset"
   ]
  },
  {
   "cell_type": "code",
   "execution_count": 4,
   "id": "1db31239-7c28-4985-8223-e6998bbeb470",
   "metadata": {},
   "outputs": [
    {
     "data": {
      "text/html": [
       "<div>\n",
       "<style scoped>\n",
       "    .dataframe tbody tr th:only-of-type {\n",
       "        vertical-align: middle;\n",
       "    }\n",
       "\n",
       "    .dataframe tbody tr th {\n",
       "        vertical-align: top;\n",
       "    }\n",
       "\n",
       "    .dataframe thead th {\n",
       "        text-align: right;\n",
       "    }\n",
       "</style>\n",
       "<table border=\"1\" class=\"dataframe\">\n",
       "  <thead>\n",
       "    <tr style=\"text-align: right;\">\n",
       "      <th></th>\n",
       "      <th>Country Name</th>\n",
       "      <th>Year</th>\n",
       "      <th>CO2 Emissions</th>\n",
       "    </tr>\n",
       "  </thead>\n",
       "  <tbody>\n",
       "    <tr>\n",
       "      <th>0</th>\n",
       "      <td>Aruba</td>\n",
       "      <td>1960</td>\n",
       "      <td>NaN</td>\n",
       "    </tr>\n",
       "    <tr>\n",
       "      <th>1</th>\n",
       "      <td>Africa Eastern and Southern</td>\n",
       "      <td>1960</td>\n",
       "      <td>0.906060</td>\n",
       "    </tr>\n",
       "    <tr>\n",
       "      <th>2</th>\n",
       "      <td>Afghanistan</td>\n",
       "      <td>1960</td>\n",
       "      <td>0.046057</td>\n",
       "    </tr>\n",
       "    <tr>\n",
       "      <th>3</th>\n",
       "      <td>Africa Western and Central</td>\n",
       "      <td>1960</td>\n",
       "      <td>0.090880</td>\n",
       "    </tr>\n",
       "    <tr>\n",
       "      <th>4</th>\n",
       "      <td>Angola</td>\n",
       "      <td>1960</td>\n",
       "      <td>0.100835</td>\n",
       "    </tr>\n",
       "    <tr>\n",
       "      <th>...</th>\n",
       "      <td>...</td>\n",
       "      <td>...</td>\n",
       "      <td>...</td>\n",
       "    </tr>\n",
       "    <tr>\n",
       "      <th>16221</th>\n",
       "      <td>Kosovo</td>\n",
       "      <td>2020</td>\n",
       "      <td>NaN</td>\n",
       "    </tr>\n",
       "    <tr>\n",
       "      <th>16222</th>\n",
       "      <td>Yemen, Rep.</td>\n",
       "      <td>2020</td>\n",
       "      <td>NaN</td>\n",
       "    </tr>\n",
       "    <tr>\n",
       "      <th>16223</th>\n",
       "      <td>South Africa</td>\n",
       "      <td>2020</td>\n",
       "      <td>NaN</td>\n",
       "    </tr>\n",
       "    <tr>\n",
       "      <th>16224</th>\n",
       "      <td>Zambia</td>\n",
       "      <td>2020</td>\n",
       "      <td>NaN</td>\n",
       "    </tr>\n",
       "    <tr>\n",
       "      <th>16225</th>\n",
       "      <td>Zimbabwe</td>\n",
       "      <td>2020</td>\n",
       "      <td>NaN</td>\n",
       "    </tr>\n",
       "  </tbody>\n",
       "</table>\n",
       "<p>16226 rows × 3 columns</p>\n",
       "</div>"
      ],
      "text/plain": [
       "                      Country Name  Year  CO2 Emissions\n",
       "0                            Aruba  1960            NaN\n",
       "1      Africa Eastern and Southern  1960       0.906060\n",
       "2                      Afghanistan  1960       0.046057\n",
       "3       Africa Western and Central  1960       0.090880\n",
       "4                           Angola  1960       0.100835\n",
       "...                            ...   ...            ...\n",
       "16221                       Kosovo  2020            NaN\n",
       "16222                  Yemen, Rep.  2020            NaN\n",
       "16223                 South Africa  2020            NaN\n",
       "16224                       Zambia  2020            NaN\n",
       "16225                     Zimbabwe  2020            NaN\n",
       "\n",
       "[16226 rows x 3 columns]"
      ]
     },
     "execution_count": 4,
     "metadata": {},
     "output_type": "execute_result"
    }
   ],
   "source": [
    "data = data.melt(id_vars=['Country Name'],\n",
    "         var_name = 'Year',\n",
    "         value_name = 'CO2 Emissions')\n",
    "data"
   ]
  },
  {
   "cell_type": "code",
   "execution_count": 5,
   "id": "cd3b6162-125a-4490-b140-bdd89981b09b",
   "metadata": {},
   "outputs": [],
   "source": [
    "data2 = pd.read_csv('Urban Pop.csv')"
   ]
  },
  {
   "cell_type": "code",
   "execution_count": 6,
   "id": "90963ece-db2a-4563-9bed-6eb2b8edc0c7",
   "metadata": {},
   "outputs": [],
   "source": [
    "data2 = data2.melt(id_vars=['Country Name'],\n",
    "                   var_name = 'Year',\n",
    "                   value_name = '% Urban Pop')"
   ]
  },
  {
   "cell_type": "code",
   "execution_count": 7,
   "id": "73d965ed-2c8b-412f-bae4-5862072eecad",
   "metadata": {},
   "outputs": [
    {
     "data": {
      "text/html": [
       "<div>\n",
       "<style scoped>\n",
       "    .dataframe tbody tr th:only-of-type {\n",
       "        vertical-align: middle;\n",
       "    }\n",
       "\n",
       "    .dataframe tbody tr th {\n",
       "        vertical-align: top;\n",
       "    }\n",
       "\n",
       "    .dataframe thead th {\n",
       "        text-align: right;\n",
       "    }\n",
       "</style>\n",
       "<table border=\"1\" class=\"dataframe\">\n",
       "  <thead>\n",
       "    <tr style=\"text-align: right;\">\n",
       "      <th></th>\n",
       "      <th>Country Name</th>\n",
       "      <th>Year</th>\n",
       "      <th>% Urban Pop</th>\n",
       "    </tr>\n",
       "  </thead>\n",
       "  <tbody>\n",
       "    <tr>\n",
       "      <th>0</th>\n",
       "      <td>Aruba</td>\n",
       "      <td>1960</td>\n",
       "      <td>50.776000</td>\n",
       "    </tr>\n",
       "    <tr>\n",
       "      <th>1</th>\n",
       "      <td>Africa Eastern and Southern</td>\n",
       "      <td>1960</td>\n",
       "      <td>14.704688</td>\n",
       "    </tr>\n",
       "    <tr>\n",
       "      <th>2</th>\n",
       "      <td>Afghanistan</td>\n",
       "      <td>1960</td>\n",
       "      <td>8.401000</td>\n",
       "    </tr>\n",
       "    <tr>\n",
       "      <th>3</th>\n",
       "      <td>Africa Western and Central</td>\n",
       "      <td>1960</td>\n",
       "      <td>14.670329</td>\n",
       "    </tr>\n",
       "    <tr>\n",
       "      <th>4</th>\n",
       "      <td>Angola</td>\n",
       "      <td>1960</td>\n",
       "      <td>10.435000</td>\n",
       "    </tr>\n",
       "    <tr>\n",
       "      <th>...</th>\n",
       "      <td>...</td>\n",
       "      <td>...</td>\n",
       "      <td>...</td>\n",
       "    </tr>\n",
       "    <tr>\n",
       "      <th>16221</th>\n",
       "      <td>Kosovo</td>\n",
       "      <td>2020</td>\n",
       "      <td>NaN</td>\n",
       "    </tr>\n",
       "    <tr>\n",
       "      <th>16222</th>\n",
       "      <td>Yemen, Rep.</td>\n",
       "      <td>2020</td>\n",
       "      <td>37.908000</td>\n",
       "    </tr>\n",
       "    <tr>\n",
       "      <th>16223</th>\n",
       "      <td>South Africa</td>\n",
       "      <td>2020</td>\n",
       "      <td>67.354000</td>\n",
       "    </tr>\n",
       "    <tr>\n",
       "      <th>16224</th>\n",
       "      <td>Zambia</td>\n",
       "      <td>2020</td>\n",
       "      <td>44.629000</td>\n",
       "    </tr>\n",
       "    <tr>\n",
       "      <th>16225</th>\n",
       "      <td>Zimbabwe</td>\n",
       "      <td>2020</td>\n",
       "      <td>32.242000</td>\n",
       "    </tr>\n",
       "  </tbody>\n",
       "</table>\n",
       "<p>16226 rows × 3 columns</p>\n",
       "</div>"
      ],
      "text/plain": [
       "                      Country Name  Year  % Urban Pop\n",
       "0                            Aruba  1960    50.776000\n",
       "1      Africa Eastern and Southern  1960    14.704688\n",
       "2                      Afghanistan  1960     8.401000\n",
       "3       Africa Western and Central  1960    14.670329\n",
       "4                           Angola  1960    10.435000\n",
       "...                            ...   ...          ...\n",
       "16221                       Kosovo  2020          NaN\n",
       "16222                  Yemen, Rep.  2020    37.908000\n",
       "16223                 South Africa  2020    67.354000\n",
       "16224                       Zambia  2020    44.629000\n",
       "16225                     Zimbabwe  2020    32.242000\n",
       "\n",
       "[16226 rows x 3 columns]"
      ]
     },
     "execution_count": 7,
     "metadata": {},
     "output_type": "execute_result"
    }
   ],
   "source": [
    "data2"
   ]
  },
  {
   "cell_type": "code",
   "execution_count": 8,
   "id": "653fabc4-7b4c-4710-985d-7a4991857206",
   "metadata": {},
   "outputs": [],
   "source": [
    "data['% Urban Pop'] = data2['% Urban Pop']"
   ]
  },
  {
   "cell_type": "code",
   "execution_count": 9,
   "id": "5fdd358c-2397-41d4-8a58-c429e899ac80",
   "metadata": {},
   "outputs": [],
   "source": [
    "eu = pd.read_csv('Energy Use.csv')\n",
    "eu = eu.melt(id_vars=['Country Name'],\n",
    "                   var_name = 'Year',\n",
    "                   value_name = 'Eneregy Use')\n",
    "data['Energy Use'] = eu['Eneregy Use']"
   ]
  },
  {
   "cell_type": "code",
   "execution_count": 10,
   "id": "fd4c0c91-fb2e-49ee-886c-96c337efd654",
   "metadata": {},
   "outputs": [],
   "source": [
    "epc = pd.read_csv('Electric Power Consumption.csv')\n",
    "epc = epc.melt(id_vars=['Country Name'],\n",
    "                   var_name = 'Year',\n",
    "                   value_name = 'Electric Power Consumption')\n",
    "data['Electric Power Consumption'] = epc['Electric Power Consumption']"
   ]
  },
  {
   "cell_type": "code",
   "execution_count": 11,
   "id": "6eee8e39-f457-4c0b-bb61-df1f4ddb9747",
   "metadata": {},
   "outputs": [
    {
     "data": {
      "text/html": [
       "<div>\n",
       "<style scoped>\n",
       "    .dataframe tbody tr th:only-of-type {\n",
       "        vertical-align: middle;\n",
       "    }\n",
       "\n",
       "    .dataframe tbody tr th {\n",
       "        vertical-align: top;\n",
       "    }\n",
       "\n",
       "    .dataframe thead th {\n",
       "        text-align: right;\n",
       "    }\n",
       "</style>\n",
       "<table border=\"1\" class=\"dataframe\">\n",
       "  <thead>\n",
       "    <tr style=\"text-align: right;\">\n",
       "      <th></th>\n",
       "      <th>Country Name</th>\n",
       "      <th>Year</th>\n",
       "      <th>CO2 Emissions</th>\n",
       "      <th>% Urban Pop</th>\n",
       "      <th>Energy Use</th>\n",
       "      <th>Electric Power Consumption</th>\n",
       "    </tr>\n",
       "  </thead>\n",
       "  <tbody>\n",
       "    <tr>\n",
       "      <th>0</th>\n",
       "      <td>Aruba</td>\n",
       "      <td>1960</td>\n",
       "      <td>NaN</td>\n",
       "      <td>50.776000</td>\n",
       "      <td>NaN</td>\n",
       "      <td>NaN</td>\n",
       "    </tr>\n",
       "    <tr>\n",
       "      <th>1</th>\n",
       "      <td>Africa Eastern and Southern</td>\n",
       "      <td>1960</td>\n",
       "      <td>0.906060</td>\n",
       "      <td>14.704688</td>\n",
       "      <td>NaN</td>\n",
       "      <td>NaN</td>\n",
       "    </tr>\n",
       "    <tr>\n",
       "      <th>2</th>\n",
       "      <td>Afghanistan</td>\n",
       "      <td>1960</td>\n",
       "      <td>0.046057</td>\n",
       "      <td>8.401000</td>\n",
       "      <td>NaN</td>\n",
       "      <td>NaN</td>\n",
       "    </tr>\n",
       "    <tr>\n",
       "      <th>3</th>\n",
       "      <td>Africa Western and Central</td>\n",
       "      <td>1960</td>\n",
       "      <td>0.090880</td>\n",
       "      <td>14.670329</td>\n",
       "      <td>NaN</td>\n",
       "      <td>NaN</td>\n",
       "    </tr>\n",
       "    <tr>\n",
       "      <th>4</th>\n",
       "      <td>Angola</td>\n",
       "      <td>1960</td>\n",
       "      <td>0.100835</td>\n",
       "      <td>10.435000</td>\n",
       "      <td>NaN</td>\n",
       "      <td>NaN</td>\n",
       "    </tr>\n",
       "    <tr>\n",
       "      <th>...</th>\n",
       "      <td>...</td>\n",
       "      <td>...</td>\n",
       "      <td>...</td>\n",
       "      <td>...</td>\n",
       "      <td>...</td>\n",
       "      <td>...</td>\n",
       "    </tr>\n",
       "    <tr>\n",
       "      <th>16221</th>\n",
       "      <td>Kosovo</td>\n",
       "      <td>2020</td>\n",
       "      <td>NaN</td>\n",
       "      <td>NaN</td>\n",
       "      <td>NaN</td>\n",
       "      <td>NaN</td>\n",
       "    </tr>\n",
       "    <tr>\n",
       "      <th>16222</th>\n",
       "      <td>Yemen, Rep.</td>\n",
       "      <td>2020</td>\n",
       "      <td>NaN</td>\n",
       "      <td>37.908000</td>\n",
       "      <td>NaN</td>\n",
       "      <td>NaN</td>\n",
       "    </tr>\n",
       "    <tr>\n",
       "      <th>16223</th>\n",
       "      <td>South Africa</td>\n",
       "      <td>2020</td>\n",
       "      <td>NaN</td>\n",
       "      <td>67.354000</td>\n",
       "      <td>NaN</td>\n",
       "      <td>NaN</td>\n",
       "    </tr>\n",
       "    <tr>\n",
       "      <th>16224</th>\n",
       "      <td>Zambia</td>\n",
       "      <td>2020</td>\n",
       "      <td>NaN</td>\n",
       "      <td>44.629000</td>\n",
       "      <td>NaN</td>\n",
       "      <td>NaN</td>\n",
       "    </tr>\n",
       "    <tr>\n",
       "      <th>16225</th>\n",
       "      <td>Zimbabwe</td>\n",
       "      <td>2020</td>\n",
       "      <td>NaN</td>\n",
       "      <td>32.242000</td>\n",
       "      <td>NaN</td>\n",
       "      <td>NaN</td>\n",
       "    </tr>\n",
       "  </tbody>\n",
       "</table>\n",
       "<p>16226 rows × 6 columns</p>\n",
       "</div>"
      ],
      "text/plain": [
       "                      Country Name  Year  CO2 Emissions  % Urban Pop  \\\n",
       "0                            Aruba  1960            NaN    50.776000   \n",
       "1      Africa Eastern and Southern  1960       0.906060    14.704688   \n",
       "2                      Afghanistan  1960       0.046057     8.401000   \n",
       "3       Africa Western and Central  1960       0.090880    14.670329   \n",
       "4                           Angola  1960       0.100835    10.435000   \n",
       "...                            ...   ...            ...          ...   \n",
       "16221                       Kosovo  2020            NaN          NaN   \n",
       "16222                  Yemen, Rep.  2020            NaN    37.908000   \n",
       "16223                 South Africa  2020            NaN    67.354000   \n",
       "16224                       Zambia  2020            NaN    44.629000   \n",
       "16225                     Zimbabwe  2020            NaN    32.242000   \n",
       "\n",
       "       Energy Use  Electric Power Consumption  \n",
       "0             NaN                         NaN  \n",
       "1             NaN                         NaN  \n",
       "2             NaN                         NaN  \n",
       "3             NaN                         NaN  \n",
       "4             NaN                         NaN  \n",
       "...           ...                         ...  \n",
       "16221         NaN                         NaN  \n",
       "16222         NaN                         NaN  \n",
       "16223         NaN                         NaN  \n",
       "16224         NaN                         NaN  \n",
       "16225         NaN                         NaN  \n",
       "\n",
       "[16226 rows x 6 columns]"
      ]
     },
     "execution_count": 11,
     "metadata": {},
     "output_type": "execute_result"
    }
   ],
   "source": [
    "data"
   ]
  },
  {
   "cell_type": "code",
   "execution_count": 12,
   "id": "326d5793-09b3-4618-8bcd-81aae0c001c3",
   "metadata": {},
   "outputs": [],
   "source": [
    "FA = pd.read_csv('Forest Area %.csv')\n",
    "FA = FA.melt(id_vars = ['Country Name'],\n",
    "             var_name = 'Year',\n",
    "             value_name = 'Forest Area %')\n",
    "data['Forest Area %'] = FA['Forest Area %']"
   ]
  },
  {
   "cell_type": "code",
   "execution_count": 13,
   "id": "2a0de97d-7cc2-4a65-b340-04e94914e07b",
   "metadata": {},
   "outputs": [
    {
     "name": "stdout",
     "output_type": "stream",
     "text": [
      "<class 'pandas.core.frame.DataFrame'>\n",
      "RangeIndex: 16226 entries, 0 to 16225\n",
      "Data columns (total 8 columns):\n",
      " #   Column                      Non-Null Count  Dtype  \n",
      "---  ------                      --------------  -----  \n",
      " 0   Country Name                16226 non-null  object \n",
      " 1   Year                        16226 non-null  object \n",
      " 2   CO2 Emissions               13316 non-null  float64\n",
      " 3   % Urban Pop                 16034 non-null  float64\n",
      " 4   Energy Use                  7978 non-null   float64\n",
      " 5   Electric Power Consumption  7787 non-null   float64\n",
      " 6   Forest Area %               8018 non-null   float64\n",
      " 7   Fossil Fuel Consumption     8175 non-null   float64\n",
      "dtypes: float64(6), object(2)\n",
      "memory usage: 1014.2+ KB\n"
     ]
    }
   ],
   "source": [
    "FF = pd.read_csv('Fossil Fuel Energy Consumption.csv') \n",
    "FF = FF.melt(id_vars=['Country Name'],\n",
    "                   var_name = 'Year',\n",
    "                   value_name = 'Fossil Fuel Consumption')\n",
    "data['Fossil Fuel Consumption'] = FF['Fossil Fuel Consumption']\n",
    "data.info()"
   ]
  },
  {
   "cell_type": "code",
   "execution_count": 14,
   "id": "a0805fb5-7aaa-4c12-950f-f45fa95e0f1a",
   "metadata": {},
   "outputs": [
    {
     "name": "stdout",
     "output_type": "stream",
     "text": [
      "<class 'pandas.core.frame.DataFrame'>\n",
      "RangeIndex: 16226 entries, 0 to 16225\n",
      "Data columns (total 9 columns):\n",
      " #   Column                      Non-Null Count  Dtype  \n",
      "---  ------                      --------------  -----  \n",
      " 0   Country Name                16226 non-null  object \n",
      " 1   Year                        16226 non-null  object \n",
      " 2   CO2 Emissions               13316 non-null  float64\n",
      " 3   % Urban Pop                 16034 non-null  float64\n",
      " 4   Energy Use                  7978 non-null   float64\n",
      " 5   Electric Power Consumption  7787 non-null   float64\n",
      " 6   Forest Area %               8018 non-null   float64\n",
      " 7   Fossil Fuel Consumption     8175 non-null   float64\n",
      " 8   GDP Annual Growth           12153 non-null  float64\n",
      "dtypes: float64(7), object(2)\n",
      "memory usage: 1.1+ MB\n"
     ]
    }
   ],
   "source": [
    "GDP = pd.read_csv('GDP Annual Growth.csv') \n",
    "GDP = GDP.melt(id_vars=['Country Name'],\n",
    "                   var_name = 'Year',\n",
    "                   value_name = 'GDP Annual Growth')\n",
    "data['GDP Annual Growth'] = GDP['GDP Annual Growth']\n",
    "data.info()"
   ]
  },
  {
   "cell_type": "code",
   "execution_count": 15,
   "id": "82a7aa20-3726-4110-a963-ac7a490665a4",
   "metadata": {},
   "outputs": [
    {
     "name": "stdout",
     "output_type": "stream",
     "text": [
      "<class 'pandas.core.frame.DataFrame'>\n",
      "RangeIndex: 16226 entries, 0 to 16225\n",
      "Data columns (total 10 columns):\n",
      " #   Column                        Non-Null Count  Dtype  \n",
      "---  ------                        --------------  -----  \n",
      " 0   Country Name                  16226 non-null  object \n",
      " 1   Year                          16226 non-null  object \n",
      " 2   CO2 Emissions                 13316 non-null  float64\n",
      " 3   % Urban Pop                   16034 non-null  float64\n",
      " 4   Energy Use                    7978 non-null   float64\n",
      " 5   Electric Power Consumption    7787 non-null   float64\n",
      " 6   Forest Area %                 8018 non-null   float64\n",
      " 7   Fossil Fuel Consumption       8175 non-null   float64\n",
      " 8   GDP Annual Growth             12153 non-null  float64\n",
      " 9   Renewable Energy Consumption  7319 non-null   float64\n",
      "dtypes: float64(8), object(2)\n",
      "memory usage: 1.2+ MB\n"
     ]
    }
   ],
   "source": [
    "RE = pd.read_csv('Renewable Energy Consumption.csv') \n",
    "RE = RE.melt(id_vars=['Country Name'],\n",
    "                   var_name = 'Year',\n",
    "                   value_name = 'Renewable Energy Consumption')\n",
    "data['Renewable Energy Consumption'] = RE['Renewable Energy Consumption']\n",
    "data.info()"
   ]
  },
  {
   "cell_type": "markdown",
   "id": "e833f741-3ec8-4287-ab35-df4172f8aa05",
   "metadata": {},
   "source": [
    "## Models"
   ]
  },
  {
   "cell_type": "code",
   "execution_count": 16,
   "id": "cea11c63-b389-4d7d-b22c-586d0d29ed66",
   "metadata": {},
   "outputs": [],
   "source": [
    "from sklearn.linear_model import LinearRegression\n",
    "from sklearn.model_selection import train_test_split\n",
    "from sklearn.metrics import r2_score"
   ]
  },
  {
   "cell_type": "markdown",
   "id": "c6d81e39-798e-4894-8aa0-97c5d9617484",
   "metadata": {},
   "source": [
    "### Correlation"
   ]
  },
  {
   "cell_type": "code",
   "execution_count": 17,
   "id": "d590ccdf-4fae-43f8-9827-fb4b11f93ea5",
   "metadata": {},
   "outputs": [
    {
     "data": {
      "text/html": [
       "<div>\n",
       "<style scoped>\n",
       "    .dataframe tbody tr th:only-of-type {\n",
       "        vertical-align: middle;\n",
       "    }\n",
       "\n",
       "    .dataframe tbody tr th {\n",
       "        vertical-align: top;\n",
       "    }\n",
       "\n",
       "    .dataframe thead th {\n",
       "        text-align: right;\n",
       "    }\n",
       "</style>\n",
       "<table border=\"1\" class=\"dataframe\">\n",
       "  <thead>\n",
       "    <tr style=\"text-align: right;\">\n",
       "      <th></th>\n",
       "      <th>CO2 Emissions</th>\n",
       "      <th>% Urban Pop</th>\n",
       "      <th>Energy Use</th>\n",
       "      <th>Electric Power Consumption</th>\n",
       "      <th>Forest Area %</th>\n",
       "      <th>Fossil Fuel Consumption</th>\n",
       "      <th>GDP Annual Growth</th>\n",
       "      <th>Renewable Energy Consumption</th>\n",
       "    </tr>\n",
       "  </thead>\n",
       "  <tbody>\n",
       "    <tr>\n",
       "      <th>CO2 Emissions</th>\n",
       "      <td>1.000000</td>\n",
       "      <td>0.543542</td>\n",
       "      <td>0.830578</td>\n",
       "      <td>0.586205</td>\n",
       "      <td>-0.110605</td>\n",
       "      <td>0.482354</td>\n",
       "      <td>-0.028020</td>\n",
       "      <td>-0.571425</td>\n",
       "    </tr>\n",
       "    <tr>\n",
       "      <th>% Urban Pop</th>\n",
       "      <td>0.543542</td>\n",
       "      <td>1.000000</td>\n",
       "      <td>0.569105</td>\n",
       "      <td>0.586833</td>\n",
       "      <td>-0.028978</td>\n",
       "      <td>0.584682</td>\n",
       "      <td>-0.085049</td>\n",
       "      <td>-0.617547</td>\n",
       "    </tr>\n",
       "    <tr>\n",
       "      <th>Energy Use</th>\n",
       "      <td>0.830578</td>\n",
       "      <td>0.569105</td>\n",
       "      <td>1.000000</td>\n",
       "      <td>0.738202</td>\n",
       "      <td>-0.112269</td>\n",
       "      <td>0.378830</td>\n",
       "      <td>-0.059811</td>\n",
       "      <td>-0.433400</td>\n",
       "    </tr>\n",
       "    <tr>\n",
       "      <th>Electric Power Consumption</th>\n",
       "      <td>0.586205</td>\n",
       "      <td>0.586833</td>\n",
       "      <td>0.738202</td>\n",
       "      <td>1.000000</td>\n",
       "      <td>-0.054217</td>\n",
       "      <td>0.238543</td>\n",
       "      <td>-0.076686</td>\n",
       "      <td>-0.322412</td>\n",
       "    </tr>\n",
       "    <tr>\n",
       "      <th>Forest Area %</th>\n",
       "      <td>-0.110605</td>\n",
       "      <td>-0.028978</td>\n",
       "      <td>-0.112269</td>\n",
       "      <td>-0.054217</td>\n",
       "      <td>1.000000</td>\n",
       "      <td>-0.309075</td>\n",
       "      <td>-0.021504</td>\n",
       "      <td>0.153266</td>\n",
       "    </tr>\n",
       "    <tr>\n",
       "      <th>Fossil Fuel Consumption</th>\n",
       "      <td>0.482354</td>\n",
       "      <td>0.584682</td>\n",
       "      <td>0.378830</td>\n",
       "      <td>0.238543</td>\n",
       "      <td>-0.309075</td>\n",
       "      <td>1.000000</td>\n",
       "      <td>0.009066</td>\n",
       "      <td>-0.852085</td>\n",
       "    </tr>\n",
       "    <tr>\n",
       "      <th>GDP Annual Growth</th>\n",
       "      <td>-0.028020</td>\n",
       "      <td>-0.085049</td>\n",
       "      <td>-0.059811</td>\n",
       "      <td>-0.076686</td>\n",
       "      <td>-0.021504</td>\n",
       "      <td>0.009066</td>\n",
       "      <td>1.000000</td>\n",
       "      <td>0.078397</td>\n",
       "    </tr>\n",
       "    <tr>\n",
       "      <th>Renewable Energy Consumption</th>\n",
       "      <td>-0.571425</td>\n",
       "      <td>-0.617547</td>\n",
       "      <td>-0.433400</td>\n",
       "      <td>-0.322412</td>\n",
       "      <td>0.153266</td>\n",
       "      <td>-0.852085</td>\n",
       "      <td>0.078397</td>\n",
       "      <td>1.000000</td>\n",
       "    </tr>\n",
       "  </tbody>\n",
       "</table>\n",
       "</div>"
      ],
      "text/plain": [
       "                              CO2 Emissions  % Urban Pop  Energy Use  \\\n",
       "CO2 Emissions                      1.000000     0.543542    0.830578   \n",
       "% Urban Pop                        0.543542     1.000000    0.569105   \n",
       "Energy Use                         0.830578     0.569105    1.000000   \n",
       "Electric Power Consumption         0.586205     0.586833    0.738202   \n",
       "Forest Area %                     -0.110605    -0.028978   -0.112269   \n",
       "Fossil Fuel Consumption            0.482354     0.584682    0.378830   \n",
       "GDP Annual Growth                 -0.028020    -0.085049   -0.059811   \n",
       "Renewable Energy Consumption      -0.571425    -0.617547   -0.433400   \n",
       "\n",
       "                              Electric Power Consumption  Forest Area %  \\\n",
       "CO2 Emissions                                   0.586205      -0.110605   \n",
       "% Urban Pop                                     0.586833      -0.028978   \n",
       "Energy Use                                      0.738202      -0.112269   \n",
       "Electric Power Consumption                      1.000000      -0.054217   \n",
       "Forest Area %                                  -0.054217       1.000000   \n",
       "Fossil Fuel Consumption                         0.238543      -0.309075   \n",
       "GDP Annual Growth                              -0.076686      -0.021504   \n",
       "Renewable Energy Consumption                   -0.322412       0.153266   \n",
       "\n",
       "                              Fossil Fuel Consumption  GDP Annual Growth  \\\n",
       "CO2 Emissions                                0.482354          -0.028020   \n",
       "% Urban Pop                                  0.584682          -0.085049   \n",
       "Energy Use                                   0.378830          -0.059811   \n",
       "Electric Power Consumption                   0.238543          -0.076686   \n",
       "Forest Area %                               -0.309075          -0.021504   \n",
       "Fossil Fuel Consumption                      1.000000           0.009066   \n",
       "GDP Annual Growth                            0.009066           1.000000   \n",
       "Renewable Energy Consumption                -0.852085           0.078397   \n",
       "\n",
       "                              Renewable Energy Consumption  \n",
       "CO2 Emissions                                    -0.571425  \n",
       "% Urban Pop                                      -0.617547  \n",
       "Energy Use                                       -0.433400  \n",
       "Electric Power Consumption                       -0.322412  \n",
       "Forest Area %                                     0.153266  \n",
       "Fossil Fuel Consumption                          -0.852085  \n",
       "GDP Annual Growth                                 0.078397  \n",
       "Renewable Energy Consumption                      1.000000  "
      ]
     },
     "execution_count": 17,
     "metadata": {},
     "output_type": "execute_result"
    }
   ],
   "source": [
    "correlation = data.corr()\n",
    "correlation"
   ]
  },
  {
   "cell_type": "markdown",
   "id": "73d1536d-d9d0-4ef1-93cf-abc4b94bedf2",
   "metadata": {},
   "source": [
    "### Linear Regression"
   ]
  },
  {
   "cell_type": "code",
   "execution_count": 18,
   "id": "178cc29f-23f1-4a21-a1f0-a3d6f10618bc",
   "metadata": {},
   "outputs": [],
   "source": [
    "data = data.dropna() # Removing null rows.\n",
    "# All the variables for the first model \n",
    "X1 = data[['Energy Use', 'Electric Power Consumption', 'Renewable Energy Consumption', '% Urban Pop', \n",
    "           'Fossil Fuel Consumption','GDP Annual Growth','Forest Area %']]\n",
    "Y1 = data['CO2 Emissions']"
   ]
  },
  {
   "cell_type": "code",
   "execution_count": 19,
   "id": "0f9c6de8-12be-4409-9255-c4af51cb1cc6",
   "metadata": {},
   "outputs": [],
   "source": [
    "X1_train, X1_test, Y1_train, Y1_test = train_test_split(X1, Y1, test_size=0.3, random_state=77)"
   ]
  },
  {
   "cell_type": "code",
   "execution_count": 20,
   "id": "b0fb391d-da8c-41b1-b52c-93f88d39f88a",
   "metadata": {},
   "outputs": [],
   "source": [
    "model1 = LinearRegression()\n",
    "model1.fit(X1_train, Y1_train)\n",
    "pred1 = model1.predict(X1_test)\n",
    "model1_score = round(r2_score(Y1_test, pred1),5)"
   ]
  },
  {
   "cell_type": "code",
   "execution_count": 21,
   "id": "e14eacc7-1262-4ddf-9a32-303149208a0e",
   "metadata": {},
   "outputs": [],
   "source": [
    "# improving the model by removing the least correlated variable - GDP Annual Growth\n",
    "X2 = data[['Energy Use', 'Electric Power Consumption', 'Renewable Energy Consumption', '% Urban Pop', \n",
    "           'Fossil Fuel Consumption','Forest Area %']]\n",
    "Y2 = data['CO2 Emissions']\n",
    "X2_train, X2_test, Y2_train, Y2_test = train_test_split(X2, Y2, test_size=0.3, random_state=77)"
   ]
  },
  {
   "cell_type": "code",
   "execution_count": 22,
   "id": "6152f19c-1ea8-4b65-a342-1ca610e0e16f",
   "metadata": {},
   "outputs": [],
   "source": [
    "model2 = LinearRegression()\n",
    "model2.fit(X2_train, Y2_train)\n",
    "pred2 = model2.predict(X2_test)\n",
    "model2_score = round(r2_score(Y2_test, pred2),5)"
   ]
  },
  {
   "cell_type": "code",
   "execution_count": 23,
   "id": "b7efcd09-ac68-4ecf-8fa5-a04affbe267d",
   "metadata": {},
   "outputs": [],
   "source": [
    "# Using the same method to improve the model - Removed Forest Area %\n",
    "X3 = data[['Energy Use', 'Electric Power Consumption', 'Renewable Energy Consumption', '% Urban Pop', \n",
    "           'Fossil Fuel Consumption']]\n",
    "Y3 = data['CO2 Emissions']\n",
    "X3_train, X3_test, Y3_train, Y3_test = train_test_split(X3, Y3, test_size=0.3, random_state=77)"
   ]
  },
  {
   "cell_type": "code",
   "execution_count": 24,
   "id": "fd05c8df-cac4-4c68-86ec-d057cd41d9c5",
   "metadata": {},
   "outputs": [],
   "source": [
    "model3 = LinearRegression()\n",
    "model3.fit(X3_train, Y3_train)\n",
    "pred3 = model3.predict(X3_test)\n",
    "model3_score = round(r2_score(Y3_test, pred3),6)"
   ]
  },
  {
   "cell_type": "code",
   "execution_count": 25,
   "id": "08504eb2-c9d7-46b0-a98c-72c621012687",
   "metadata": {},
   "outputs": [],
   "source": [
    "# Model 4- Removed Fossil Fuel Consumption\n",
    "X4 = data[['Energy Use', 'Electric Power Consumption', 'Renewable Energy Consumption', '% Urban Pop']]\n",
    "Y4 = data['CO2 Emissions']\n",
    "X4_train, X4_test, Y4_train, Y4_test = train_test_split(X4, Y4, test_size=0.3, random_state=77)"
   ]
  },
  {
   "cell_type": "code",
   "execution_count": 26,
   "id": "dad84f79-daf6-4799-91b6-76ba01d4190a",
   "metadata": {},
   "outputs": [],
   "source": [
    "model4 = LinearRegression()\n",
    "model4.fit(X4_train, Y4_train)\n",
    "pred4 = model4.predict(X4_test)\n",
    "model4_score = round(r2_score(Y4_test, pred4),6)"
   ]
  },
  {
   "cell_type": "code",
   "execution_count": 27,
   "id": "2c5eb1eb-07b4-40c5-b9fb-3b0a57f955a6",
   "metadata": {},
   "outputs": [],
   "source": [
    "# Model 5- Removed Urban Pop %\n",
    "X5 = data[['Energy Use', 'Electric Power Consumption', 'Renewable Energy Consumption']]\n",
    "Y5 = data['CO2 Emissions']\n",
    "X5_train, X5_test, Y5_train, Y5_test = train_test_split(X5, Y5, test_size=0.3, random_state=77)"
   ]
  },
  {
   "cell_type": "code",
   "execution_count": 28,
   "id": "7d0c3973-65b8-4801-9975-64b6f26cee9a",
   "metadata": {},
   "outputs": [],
   "source": [
    "model5 = LinearRegression()\n",
    "model5.fit(X5_train, Y5_train)\n",
    "pred5 = model5.predict(X5_test)\n",
    "model5_score = round(r2_score(Y5_test, pred5),5)\n",
    "# Out of the 5 models I created, the one with the highest r-squared value was model 3 with the variables Energy Use, \n",
    "# Electric Power Consumption, Renewable Energy Consumption, Urban Pop%, and fossil fuel consumption"
   ]
  },
  {
   "cell_type": "markdown",
   "id": "095ef994-a082-4772-8531-4d7abd788805",
   "metadata": {},
   "source": [
    "### CART "
   ]
  },
  {
   "cell_type": "code",
   "execution_count": 32,
   "id": "0555c4bf-f9f6-420d-90ea-74a46ed64a37",
   "metadata": {},
   "outputs": [],
   "source": [
    "from sklearn.tree import DecisionTreeRegressor\n"
   ]
  },
  {
   "cell_type": "code",
   "execution_count": 33,
   "id": "4ad7ae57-8ac8-4996-9524-2b601b47857f",
   "metadata": {},
   "outputs": [
    {
     "data": {
      "text/plain": [
       "DecisionTreeRegressor(min_samples_split=400)"
      ]
     },
     "execution_count": 33,
     "metadata": {},
     "output_type": "execute_result"
    }
   ],
   "source": [
    "# Since the train data has almost 3000 rows the min sample split would be 500 samples. \n",
    "model6 = DecisionTreeRegressor(min_samples_split = 400) \n",
    "model6.fit(X1_train,Y1_train) #Using all the variables for the CART model"
   ]
  },
  {
   "cell_type": "code",
   "execution_count": 34,
   "id": "43757514-89b4-42cb-8ee7-addbd9107556",
   "metadata": {},
   "outputs": [],
   "source": [
    "import graphviz \n",
    "from sklearn import tree\n",
    "dot_data = tree.export_graphviz(\n",
    "    model6, out_file='FPTree.dot',\n",
    "    feature_names = ['Energy Use', 'Electric Power Consumption', 'Renewable Energy Consumption', '% Urban Pop', \n",
    "           'Fossil Fuel Consumption','GDP Annual Growth','Forest Area %'],\n",
    "    filled = True,\n",
    "    rounded = True\n",
    "    ) "
   ]
  },
  {
   "cell_type": "code",
   "execution_count": 35,
   "id": "0e974c23-39f9-4bc2-8548-d861a932feac",
   "metadata": {},
   "outputs": [],
   "source": [
    "import pydot\n",
    "graphs = pydot.graph_from_dot_file(\"FPTree.dot\")"
   ]
  },
  {
   "cell_type": "code",
   "execution_count": 36,
   "id": "93e48545-182d-4deb-a571-3a82c68a52b7",
   "metadata": {},
   "outputs": [],
   "source": [
    "graph = graphs[0]"
   ]
  },
  {
   "cell_type": "code",
   "execution_count": 37,
   "id": "981f7bc1-e732-447e-b54d-f47c5410d527",
   "metadata": {},
   "outputs": [],
   "source": [
    "graph.write_png(\"output.png\")"
   ]
  },
  {
   "cell_type": "code",
   "execution_count": 38,
   "id": "37ee7aee-52e9-45ac-bb6d-be5e6876aae4",
   "metadata": {},
   "outputs": [],
   "source": [
    "pred6 = model6.predict(X1_test)\n",
    "model6_score = round(r2_score(Y1_test, pred6),4)"
   ]
  },
  {
   "cell_type": "markdown",
   "id": "eb7be5da-055e-4da5-8b8d-68fc0b1c5003",
   "metadata": {},
   "source": [
    "### Random Forest"
   ]
  },
  {
   "cell_type": "code",
   "execution_count": 39,
   "id": "211c41ee-878d-47e7-876b-ac3fa92b2d66",
   "metadata": {},
   "outputs": [
    {
     "data": {
      "text/plain": [
       "RandomForestRegressor(min_samples_split=100, n_estimators=1000)"
      ]
     },
     "execution_count": 39,
     "metadata": {},
     "output_type": "execute_result"
    }
   ],
   "source": [
    "from sklearn.ensemble import RandomForestRegressor\n",
    "model7 = RandomForestRegressor(min_samples_split = 100, n_estimators = 1000)\n",
    "model7.fit(X1_train, Y1_train)"
   ]
  },
  {
   "cell_type": "code",
   "execution_count": 40,
   "id": "a3a26c68-be90-4629-bd02-4a82876d594d",
   "metadata": {},
   "outputs": [],
   "source": [
    "pred7 = model7.predict(X1_test)\n",
    "model7_score = round(r2_score(Y1_test, pred7),3)"
   ]
  },
  {
   "cell_type": "markdown",
   "id": "7ec3e8de-0657-4b74-b466-fa145cabda26",
   "metadata": {},
   "source": [
    "### Summary Tables"
   ]
  },
  {
   "cell_type": "code",
   "execution_count": 41,
   "id": "7d437d93-d483-443b-a619-fedd9b4b094d",
   "metadata": {},
   "outputs": [],
   "source": [
    "Linear_Regression_Scores = pd.DataFrame(index = ['R Sqaured'])\n",
    "Linear_Regression_Scores['Model1 Score'] = [model1_score]\n",
    "Linear_Regression_Scores['Model2 Score'] = [model2_score]\n",
    "Linear_Regression_Scores['Model3 Score'] = [model3_score]\n",
    "Linear_Regression_Scores['Model4 Score'] = [model4_score]\n",
    "Linear_Regression_Scores['Model5 Score'] = [model5_score]"
   ]
  },
  {
   "cell_type": "code",
   "execution_count": 42,
   "id": "e2c6f083-59d2-437d-b62a-a2f8a4a55eda",
   "metadata": {},
   "outputs": [
    {
     "data": {
      "text/html": [
       "<div>\n",
       "<style scoped>\n",
       "    .dataframe tbody tr th:only-of-type {\n",
       "        vertical-align: middle;\n",
       "    }\n",
       "\n",
       "    .dataframe tbody tr th {\n",
       "        vertical-align: top;\n",
       "    }\n",
       "\n",
       "    .dataframe thead th {\n",
       "        text-align: right;\n",
       "    }\n",
       "</style>\n",
       "<table border=\"1\" class=\"dataframe\">\n",
       "  <thead>\n",
       "    <tr style=\"text-align: right;\">\n",
       "      <th></th>\n",
       "      <th>Model1 Score</th>\n",
       "      <th>Model2 Score</th>\n",
       "      <th>Model3 Score</th>\n",
       "      <th>Model4 Score</th>\n",
       "      <th>Model5 Score</th>\n",
       "    </tr>\n",
       "  </thead>\n",
       "  <tbody>\n",
       "    <tr>\n",
       "      <th>R Sqaured</th>\n",
       "      <td>0.83746</td>\n",
       "      <td>0.83746</td>\n",
       "      <td>0.83841</td>\n",
       "      <td>0.838397</td>\n",
       "      <td>0.83655</td>\n",
       "    </tr>\n",
       "  </tbody>\n",
       "</table>\n",
       "</div>"
      ],
      "text/plain": [
       "           Model1 Score  Model2 Score  Model3 Score  Model4 Score  \\\n",
       "R Sqaured       0.83746       0.83746       0.83841      0.838397   \n",
       "\n",
       "           Model5 Score  \n",
       "R Sqaured       0.83655  "
      ]
     },
     "execution_count": 42,
     "metadata": {},
     "output_type": "execute_result"
    }
   ],
   "source": [
    "Linear_Regression_Scores"
   ]
  },
  {
   "cell_type": "code",
   "execution_count": 43,
   "id": "1dc9f6c4-e53e-4e3e-8efb-64378e6b753b",
   "metadata": {},
   "outputs": [
    {
     "data": {
      "text/html": [
       "<div>\n",
       "<style scoped>\n",
       "    .dataframe tbody tr th:only-of-type {\n",
       "        vertical-align: middle;\n",
       "    }\n",
       "\n",
       "    .dataframe tbody tr th {\n",
       "        vertical-align: top;\n",
       "    }\n",
       "\n",
       "    .dataframe thead th {\n",
       "        text-align: right;\n",
       "    }\n",
       "</style>\n",
       "<table border=\"1\" class=\"dataframe\">\n",
       "  <thead>\n",
       "    <tr style=\"text-align: right;\">\n",
       "      <th></th>\n",
       "      <th>Linear Regression</th>\n",
       "      <th>CART</th>\n",
       "      <th>Random Forest</th>\n",
       "    </tr>\n",
       "  </thead>\n",
       "  <tbody>\n",
       "    <tr>\n",
       "      <th>R Squared</th>\n",
       "      <td>0.83841</td>\n",
       "      <td>0.8403</td>\n",
       "      <td>0.881</td>\n",
       "    </tr>\n",
       "  </tbody>\n",
       "</table>\n",
       "</div>"
      ],
      "text/plain": [
       "           Linear Regression    CART  Random Forest\n",
       "R Squared            0.83841  0.8403          0.881"
      ]
     },
     "execution_count": 43,
     "metadata": {},
     "output_type": "execute_result"
    }
   ],
   "source": [
    "Scores = pd.DataFrame(index = ['R Squared'])\n",
    "Scores['Linear Regression'] = [model3_score]\n",
    "Scores['CART'] = [model6_score]\n",
    "Scores['Random Forest'] = [model7_score]\n",
    "Scores"
   ]
  }
 ],
 "metadata": {
  "kernelspec": {
   "display_name": "Python 3 (ipykernel)",
   "language": "python",
   "name": "python3"
  },
  "language_info": {
   "codemirror_mode": {
    "name": "ipython",
    "version": 3
   },
   "file_extension": ".py",
   "mimetype": "text/x-python",
   "name": "python",
   "nbconvert_exporter": "python",
   "pygments_lexer": "ipython3",
   "version": "3.9.6"
  }
 },
 "nbformat": 4,
 "nbformat_minor": 5
}
