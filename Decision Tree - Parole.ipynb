{
 "cells": [
  {
   "cell_type": "code",
   "execution_count": 1,
   "id": "fb564f41-7c63-495f-877e-b8a17f03502c",
   "metadata": {},
   "outputs": [],
   "source": [
    "#By Roey Stern\n",
    "import numpy as np\n",
    "import pandas as pd"
   ]
  },
  {
   "cell_type": "code",
   "execution_count": 3,
   "id": "b69ab604-8f6e-4fc4-9a4b-785af9e254c7",
   "metadata": {},
   "outputs": [],
   "source": [
    "data = pd.read_csv('Parole.csv')\n",
    "# The Parole dataset is a dataset that I used in my DATA 385 class. \n",
    "#In DATA 385 we analyzed Parole using R and built a Logistic Regression Model."
   ]
  },
  {
   "cell_type": "code",
   "execution_count": 4,
   "id": "54f87d3a-ad0e-4e0b-be48-316766d4ae81",
   "metadata": {},
   "outputs": [
    {
     "data": {
      "text/plain": [
       "Index(['Male', 'RaceWhite', 'Age', 'State', 'TimeServed', 'MaxSentence',\n",
       "       'MultipleOffenses', 'Crime', 'Violator'],\n",
       "      dtype='object')"
      ]
     },
     "execution_count": 4,
     "metadata": {},
     "output_type": "execute_result"
    }
   ],
   "source": [
    "data.columns"
   ]
  },
  {
   "cell_type": "code",
   "execution_count": 5,
   "id": "2a34ad9e-c0cd-4812-81cd-0cbbb402b8ff",
   "metadata": {},
   "outputs": [],
   "source": [
    "# With this Data I wish to predict whether a parolee will violate his parole based on the variables.\n",
    "# Thus I adjust the Violatpr column to be clearer. 1 means violted parole and 0 vice versa.\n",
    "data.Violator.replace((1,0),('Violated parole','Did not Violate Parole'), inplace=True)"
   ]
  },
  {
   "cell_type": "code",
   "execution_count": 6,
   "id": "16a5125e-e7e9-4e04-8f97-a260d22a8c3c",
   "metadata": {},
   "outputs": [],
   "source": [
    "X = data[['Male','RaceWhite', 'Age', 'TimeServed', 'MaxSentence', 'MultipleOffenses']]\n",
    "# I chose all the columns that have numerical values.\n",
    "# The columns 'State' and 'Crime' have strings that resulted in an error when trying to fit the model.\n",
    "y = data['Violator']"
   ]
  },
  {
   "cell_type": "code",
   "execution_count": 7,
   "id": "9ac27ad4-0918-4f0c-af7e-f395cff55a4b",
   "metadata": {},
   "outputs": [],
   "source": [
    "from sklearn.model_selection import train_test_split\n",
    "X_train, X_test, y_train, y_test = train_test_split(X, y, test_size=0.2, random_state=36)"
   ]
  },
  {
   "cell_type": "code",
   "execution_count": 8,
   "id": "fdc7a1c0-1fd8-4e75-8981-23b0b8a772d1",
   "metadata": {},
   "outputs": [
    {
     "data": {
      "text/plain": [
       "DecisionTreeClassifier()"
      ]
     },
     "execution_count": 8,
     "metadata": {},
     "output_type": "execute_result"
    }
   ],
   "source": [
    "from sklearn.tree import DecisionTreeClassifier\n",
    "model = DecisionTreeClassifier()\n",
    "model.fit(X_train,y_train)"
   ]
  },
  {
   "cell_type": "code",
   "execution_count": 9,
   "id": "c7d6696e-abb1-4f4c-b994-0301df4f023a",
   "metadata": {},
   "outputs": [],
   "source": [
    "from sklearn.tree import export_graphviz\n",
    "export_graphviz(model, 'tree.dot', \n",
    "                feature_names = ['Male','RaceWhite', 'Age', 'TimeServed', 'MaxSentence', 'MultipleOffenses'],\n",
    "                class_names=data['Violator'].unique())"
   ]
  },
  {
   "cell_type": "code",
   "execution_count": 11,
   "id": "3ed4ff8e-7376-4d33-b44b-4c4ca6df8839",
   "metadata": {},
   "outputs": [
    {
     "name": "stdout",
     "output_type": "stream",
     "text": [
      "                        precision    recall  f1-score   support\n",
      "\n",
      "Did not Violate Parole       0.95      0.93      0.94       123\n",
      "       Violated parole       0.43      0.50      0.46        12\n",
      "\n",
      "              accuracy                           0.90       135\n",
      "             macro avg       0.69      0.72      0.70       135\n",
      "          weighted avg       0.90      0.90      0.90       135\n",
      "\n"
     ]
    }
   ],
   "source": [
    "pred = model.predict(X_test)\n",
    "from sklearn.metrics import classification_report\n",
    "print(classification_report(y_test, pred))\n",
    "# High accuracy rate at 0.90.\n",
    "# Signifcantly more non-violator cases than violators.\n",
    "# The model identified non-violators more easily than violators with a very high percision rate. "
   ]
  }
 ],
 "metadata": {
  "kernelspec": {
   "display_name": "Python 3 (ipykernel)",
   "language": "python",
   "name": "python3"
  },
  "language_info": {
   "codemirror_mode": {
    "name": "ipython",
    "version": 3
   },
   "file_extension": ".py",
   "mimetype": "text/x-python",
   "name": "python",
   "nbconvert_exporter": "python",
   "pygments_lexer": "ipython3",
   "version": "3.9.6"
  }
 },
 "nbformat": 4,
 "nbformat_minor": 5
}
