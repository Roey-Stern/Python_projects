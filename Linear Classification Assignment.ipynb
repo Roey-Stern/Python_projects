{
 "cells": [
  {
   "cell_type": "code",
   "execution_count": 18,
   "id": "ba2ea65d-02b1-4b7f-a722-60d4e8263674",
   "metadata": {},
   "outputs": [],
   "source": [
    "#Roey Stern\n",
    "import pandas as pd\n",
    "import numpy as np\n",
    "from matplotlib import pyplot as plt"
   ]
  },
  {
   "cell_type": "code",
   "execution_count": 2,
   "id": "b1b5f2a7-206c-4077-9265-f496a1378761",
   "metadata": {},
   "outputs": [],
   "source": [
    "iris = pd.read_csv('iris.csv')"
   ]
  },
  {
   "cell_type": "code",
   "execution_count": 3,
   "id": "f4055130-cffd-477b-80be-3c58aae6866a",
   "metadata": {},
   "outputs": [
    {
     "data": {
      "text/html": [
       "<div>\n",
       "<style scoped>\n",
       "    .dataframe tbody tr th:only-of-type {\n",
       "        vertical-align: middle;\n",
       "    }\n",
       "\n",
       "    .dataframe tbody tr th {\n",
       "        vertical-align: top;\n",
       "    }\n",
       "\n",
       "    .dataframe thead th {\n",
       "        text-align: right;\n",
       "    }\n",
       "</style>\n",
       "<table border=\"1\" class=\"dataframe\">\n",
       "  <thead>\n",
       "    <tr style=\"text-align: right;\">\n",
       "      <th></th>\n",
       "      <th>Id</th>\n",
       "      <th>SepalLengthCm</th>\n",
       "      <th>SepalWidthCm</th>\n",
       "      <th>PetalLengthCm</th>\n",
       "      <th>PetalWidthCm</th>\n",
       "      <th>Species</th>\n",
       "    </tr>\n",
       "  </thead>\n",
       "  <tbody>\n",
       "    <tr>\n",
       "      <th>0</th>\n",
       "      <td>1</td>\n",
       "      <td>5.1</td>\n",
       "      <td>3.5</td>\n",
       "      <td>1.4</td>\n",
       "      <td>0.2</td>\n",
       "      <td>Iris-setosa</td>\n",
       "    </tr>\n",
       "    <tr>\n",
       "      <th>1</th>\n",
       "      <td>2</td>\n",
       "      <td>4.9</td>\n",
       "      <td>3.0</td>\n",
       "      <td>1.4</td>\n",
       "      <td>0.2</td>\n",
       "      <td>Iris-setosa</td>\n",
       "    </tr>\n",
       "    <tr>\n",
       "      <th>2</th>\n",
       "      <td>3</td>\n",
       "      <td>4.7</td>\n",
       "      <td>3.2</td>\n",
       "      <td>1.3</td>\n",
       "      <td>0.2</td>\n",
       "      <td>Iris-setosa</td>\n",
       "    </tr>\n",
       "    <tr>\n",
       "      <th>3</th>\n",
       "      <td>4</td>\n",
       "      <td>4.6</td>\n",
       "      <td>3.1</td>\n",
       "      <td>1.5</td>\n",
       "      <td>0.2</td>\n",
       "      <td>Iris-setosa</td>\n",
       "    </tr>\n",
       "    <tr>\n",
       "      <th>4</th>\n",
       "      <td>5</td>\n",
       "      <td>5.0</td>\n",
       "      <td>3.6</td>\n",
       "      <td>1.4</td>\n",
       "      <td>0.2</td>\n",
       "      <td>Iris-setosa</td>\n",
       "    </tr>\n",
       "  </tbody>\n",
       "</table>\n",
       "</div>"
      ],
      "text/plain": [
       "   Id  SepalLengthCm  SepalWidthCm  PetalLengthCm  PetalWidthCm      Species\n",
       "0   1            5.1           3.5            1.4           0.2  Iris-setosa\n",
       "1   2            4.9           3.0            1.4           0.2  Iris-setosa\n",
       "2   3            4.7           3.2            1.3           0.2  Iris-setosa\n",
       "3   4            4.6           3.1            1.5           0.2  Iris-setosa\n",
       "4   5            5.0           3.6            1.4           0.2  Iris-setosa"
      ]
     },
     "execution_count": 3,
     "metadata": {},
     "output_type": "execute_result"
    }
   ],
   "source": [
    "iris.head()"
   ]
  },
  {
   "cell_type": "code",
   "execution_count": 4,
   "id": "e875e9ac-0142-476e-8319-ed2597de9433",
   "metadata": {},
   "outputs": [
    {
     "data": {
      "text/plain": [
       "array(['Iris-setosa', 'Iris-versicolor', 'Iris-virginica'], dtype=object)"
      ]
     },
     "execution_count": 4,
     "metadata": {},
     "output_type": "execute_result"
    }
   ],
   "source": [
    "iris['Species'].unique()"
   ]
  },
  {
   "cell_type": "code",
   "execution_count": 5,
   "id": "fa5dfa70-08f6-490f-a435-4e04f33ef90c",
   "metadata": {},
   "outputs": [],
   "source": [
    "# creating a 2d array for the analysis \n",
    "len(iris['SepalLengthCm'])\n",
    "l = []\n",
    "for index, value in iris['SepalLengthCm'].items():\n",
    "    l.append(value)\n",
    "w = []\n",
    "for index, value in iris['SepalWidthCm'].items():\n",
    "    w.append(value)\n",
    "   \n",
    "Sepal_l_w = list(zip(l,w))"
   ]
  },
  {
   "cell_type": "code",
   "execution_count": 6,
   "id": "0eec3678-d401-4bec-951e-9f0c859ed2e0",
   "metadata": {},
   "outputs": [],
   "source": [
    "# Predicting the species based on the Sepal Length and Width\n",
    "\n",
    "X = Sepal_l_w\n",
    "y = iris['Species']"
   ]
  },
  {
   "cell_type": "code",
   "execution_count": 7,
   "id": "45bbc577-28e0-414b-9553-3517d096c1de",
   "metadata": {},
   "outputs": [],
   "source": [
    "from sklearn.model_selection import train_test_split\n",
    "X_train, X_test, y_train, y_test = train_test_split(X, y, test_size=0.2, random_state=36)"
   ]
  },
  {
   "cell_type": "code",
   "execution_count": 8,
   "id": "d8089dea-d407-42d5-8296-833e89ef8fc6",
   "metadata": {},
   "outputs": [
    {
     "name": "stdout",
     "output_type": "stream",
     "text": [
      "['Iris-virginica' 'Iris-virginica' 'Iris-virginica' 'Iris-virginica'\n",
      " 'Iris-virginica' 'Iris-versicolor' 'Iris-setosa' 'Iris-setosa'\n",
      " 'Iris-versicolor' 'Iris-setosa' 'Iris-setosa' 'Iris-setosa'\n",
      " 'Iris-virginica' 'Iris-versicolor' 'Iris-setosa' 'Iris-setosa'\n",
      " 'Iris-setosa' 'Iris-virginica' 'Iris-setosa' 'Iris-virginica'\n",
      " 'Iris-setosa' 'Iris-virginica' 'Iris-virginica' 'Iris-setosa'\n",
      " 'Iris-virginica' 'Iris-setosa' 'Iris-setosa' 'Iris-virginica'\n",
      " 'Iris-setosa' 'Iris-virginica']\n",
      "50     Iris-versicolor\n",
      "145     Iris-virginica\n",
      "86     Iris-versicolor\n",
      "118     Iris-virginica\n",
      "122     Iris-virginica\n",
      "57     Iris-versicolor\n",
      "56     Iris-versicolor\n",
      "51     Iris-versicolor\n",
      "69     Iris-versicolor\n",
      "66     Iris-versicolor\n",
      "59     Iris-versicolor\n",
      "4          Iris-setosa\n",
      "110     Iris-virginica\n",
      "94     Iris-versicolor\n",
      "29         Iris-setosa\n",
      "35         Iris-setosa\n",
      "28         Iris-setosa\n",
      "77     Iris-versicolor\n",
      "14         Iris-setosa\n",
      "146     Iris-virginica\n",
      "48         Iris-setosa\n",
      "125     Iris-virginica\n",
      "102     Iris-virginica\n",
      "27         Iris-setosa\n",
      "131     Iris-virginica\n",
      "115     Iris-virginica\n",
      "42         Iris-setosa\n",
      "147     Iris-virginica\n",
      "96     Iris-versicolor\n",
      "128     Iris-virginica\n",
      "Name: Species, dtype: object\n",
      "0.7\n"
     ]
    }
   ],
   "source": [
    "#SVM model: \n",
    "from sklearn.linear_model import SGDClassifier\n",
    "model_SVM = SGDClassifier()\n",
    "\n",
    "model_SVM.fit(X_train,y_train)\n",
    "pred_SVM = model_SVM.predict(X_test)\n",
    "print(pred_SVM)\n",
    "print(y_test)\n",
    "from sklearn.metrics import accuracy_score,precision_score,recall_score,f1_score\n",
    "print(accuracy_score(pred_SVM, y_test))"
   ]
  },
  {
   "cell_type": "code",
   "execution_count": 9,
   "id": "e4a69bcd-bb05-4c56-99ed-3811c0896305",
   "metadata": {},
   "outputs": [
    {
     "name": "stdout",
     "output_type": "stream",
     "text": [
      "0.7272727272727272\n",
      "0.7802197802197802\n",
      "0.663059163059163\n"
     ]
    }
   ],
   "source": [
    "print(precision_score(pred_SVM, y_test,average='macro'))\n",
    "print(recall_score(pred_SVM, y_test,average='macro'))\n",
    "print(f1_score(pred_SVM, y_test,average='macro'))\n"
   ]
  },
  {
   "cell_type": "code",
   "execution_count": 10,
   "id": "02eec65f-8367-47ff-b415-1b66b438c262",
   "metadata": {},
   "outputs": [
    {
     "data": {
      "text/plain": [
       "array([0.70833333, 0.625     , 0.70833333, 0.70833333, 0.5       ])"
      ]
     },
     "execution_count": 10,
     "metadata": {},
     "output_type": "execute_result"
    }
   ],
   "source": [
    "from sklearn.model_selection import cross_val_score\n",
    "\n",
    "cross_val_score(model_SVM,X_train,y_train,cv=5,scoring='accuracy')"
   ]
  },
  {
   "cell_type": "code",
   "execution_count": 16,
   "id": "383a6309-5e71-4075-9e86-c62e0046c90f",
   "metadata": {},
   "outputs": [
    {
     "data": {
      "text/plain": [
       "array([[ 8,  5,  1],\n",
       "       [ 0,  3,  0],\n",
       "       [ 0,  3, 10]])"
      ]
     },
     "execution_count": 16,
     "metadata": {},
     "output_type": "execute_result"
    }
   ],
   "source": [
    "#Confusion Matrix for SVM\n",
    "from sklearn.metrics import confusion_matrix\n",
    "confusion_matrix(pred_SVM,y_test)\n",
    "#It appears that Iris-setosa and Iris-versicolor are most often confused with each other."
   ]
  },
  {
   "cell_type": "code",
   "execution_count": 13,
   "id": "6b130c15-bc0c-4546-88e4-761fe772bac0",
   "metadata": {},
   "outputs": [
    {
     "name": "stdout",
     "output_type": "stream",
     "text": [
      "0.7333333333333333\n",
      "0.7575757575757577\n",
      "0.7714285714285715\n",
      "0.7492877492877493\n"
     ]
    }
   ],
   "source": [
    "# Logistic Regression\n",
    "\n",
    "model_LR = SGDClassifier(loss='log')\n",
    "\n",
    "model_LR.fit(X_train,y_train)\n",
    "pred_LR = model_LR.predict(X_test)\n",
    "\n",
    "print(accuracy_score(pred_LR, y_test))\n",
    "print(precision_score(pred_LR, y_test, average='macro'))\n",
    "print(recall_score(pred_LR, y_test, average='macro'))\n",
    "print(f1_score(pred_LR, y_test, average='macro'))"
   ]
  },
  {
   "cell_type": "code",
   "execution_count": 14,
   "id": "d2a44269-df90-49e3-8e82-f9042249c9d1",
   "metadata": {},
   "outputs": [
    {
     "data": {
      "text/plain": [
       "array([0.45833333, 0.41666667, 0.58333333, 0.83333333, 0.75      ])"
      ]
     },
     "execution_count": 14,
     "metadata": {},
     "output_type": "execute_result"
    }
   ],
   "source": [
    "cross_val_score(model_LR,X_train,y_train,cv=5,scoring='accuracy')"
   ]
  },
  {
   "cell_type": "code",
   "execution_count": 17,
   "id": "16ac9142-5455-4136-99fa-8f995a780044",
   "metadata": {},
   "outputs": [
    {
     "data": {
      "text/plain": [
       "array([[8, 0, 0],\n",
       "       [0, 9, 6],\n",
       "       [0, 2, 5]])"
      ]
     },
     "execution_count": 17,
     "metadata": {},
     "output_type": "execute_result"
    }
   ],
   "source": [
    "#Confusion Matrix for LR\n",
    "from sklearn.metrics import confusion_matrix\n",
    "confusion_matrix(pred_LR,y_test)\n",
    "#It appears that Iris-versicolor and Iris-virginica are most often confused with each other"
   ]
  }
 ],
 "metadata": {
  "kernelspec": {
   "display_name": "Python 3 (ipykernel)",
   "language": "python",
   "name": "python3"
  },
  "language_info": {
   "codemirror_mode": {
    "name": "ipython",
    "version": 3
   },
   "file_extension": ".py",
   "mimetype": "text/x-python",
   "name": "python",
   "nbconvert_exporter": "python",
   "pygments_lexer": "ipython3",
   "version": "3.9.6"
  }
 },
 "nbformat": 4,
 "nbformat_minor": 5
}
