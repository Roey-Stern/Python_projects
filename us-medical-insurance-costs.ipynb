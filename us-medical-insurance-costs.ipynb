{
 "cells": [
  {
   "cell_type": "markdown",
   "metadata": {},
   "source": [
    "# U.S. Medical Insurance Costs"
   ]
  },
  {
   "cell_type": "code",
   "execution_count": null,
   "metadata": {},
   "outputs": [],
   "source": [
    "#1st Objective : Find average age of participants\n",
    "#2nd Objective: Find the average cost per region\n",
    "#3rd Objectibe: Find the average bmi of smokers vs non-smokers\n",
    "#4th Objective: Find the average charges for people with at least 1 child.\n",
    "#5th: Average cost of female smokers with no children from the southeast.\n",
    "#6th: What influences costs more; Number of children or smoking?"
   ]
  },
  {
   "cell_type": "code",
   "execution_count": 160,
   "metadata": {},
   "outputs": [],
   "source": [
    "import csv\n",
    "with open(\"insurance.csv\") as insurance:\n",
    "    insurance_data = csv.DictReader(insurance)\n",
    "    age = []\n",
    "    sex = []\n",
    "    bmi = []\n",
    "    children = []\n",
    "    smoker = []\n",
    "    region = []\n",
    "    charges = []\n",
    "    for row in insurance_data:\n",
    "        age.append(row['age'])\n",
    "        sex.append(row['sex'])\n",
    "        bmi.append(row['bmi'])\n",
    "        children.append(row['children'])\n",
    "        smoker.append(row['smoker'])\n",
    "        region.append(row['region'])\n",
    "        charges.append(row['charges'])\n",
    "#print(len(sex))\n",
    "#We have 1,338 rows."
   ]
  },
  {
   "cell_type": "code",
   "execution_count": 155,
   "metadata": {},
   "outputs": [
    {
     "name": "stdout",
     "output_type": "stream",
     "text": [
      "Out of 1338 participants, the average age was 39.21\n"
     ]
    }
   ],
   "source": [
    "#Objective 1:Average Age\n",
    "def average_age(lst):\n",
    "    total_ages = 0\n",
    "    total_people = 0\n",
    "    for x in lst:\n",
    "        total_people += 1\n",
    "        total_ages += float(x)\n",
    "    average_age = total_ages/total_people\n",
    "    return print('Out of {} participants, the average age was {}'.format(total_people,round(average_age,2)))\n",
    "average_age(age)    "
   ]
  },
  {
   "cell_type": "code",
   "execution_count": 141,
   "metadata": {},
   "outputs": [
    {
     "name": "stdout",
     "output_type": "stream",
     "text": [
      "\n",
      "The average insurance charges of the Northeast region is 13406.38.\n",
      "The average insurance charges of the Northwest region is 12417.58.\n",
      "The average insurance charges of the Southwest region is 12346.94.\n",
      "The average insurance charges of the Southeast region is 14735.41.\n",
      "\n"
     ]
    }
   ],
   "source": [
    "#Objective 2: Region Averages\n",
    "r_and_c = list(zip(region,charges))\n",
    "def region_average(lst,region_name):\n",
    "    region_count = 0\n",
    "    region_total_charges = 0 \n",
    "    for (x,y) in lst:\n",
    "        if x == region_name:\n",
    "            region_count += 1\n",
    "            region_total_charges += float(y)\n",
    "    region_average = region_total_charges/region_count\n",
    "    return round(region_average,2)\n",
    "\n",
    "northwest_avg = region_average(r_and_c,'northwest') \n",
    "northeast_avg = region_average(r_and_c,'northeast')\n",
    "southwest_avg = region_average(r_and_c,'southwest')\n",
    "southeast_avg = region_average(r_and_c,'southeast')\n",
    "\n",
    "print('''\n",
    "The average insurance charges of the Northeast region is {}.\n",
    "The average insurance charges of the Northwest region is {}.\n",
    "The average insurance charges of the Southwest region is {}.\n",
    "The average insurance charges of the Southeast region is {}.\n",
    "'''.format(northeast_avg,northwest_avg,southwest_avg,southeast_avg))"
   ]
  },
  {
   "cell_type": "code",
   "execution_count": 142,
   "metadata": {},
   "outputs": [
    {
     "name": "stdout",
     "output_type": "stream",
     "text": [
      "\n",
      "    Out of 274 Smokers, the average BMI was 30.71.\n",
      "    Out of 1064 Non-Smokers, the average BMI was 30.65.\n",
      "    \n"
     ]
    }
   ],
   "source": [
    "#Objective 3: Average BMI of Smokers vs non Smokers.\n",
    "s_and_bmi = list(zip(smoker,bmi))\n",
    "def smoker_bmi(lst):\n",
    "    total_smokers = 0\n",
    "    total_smoker_bmi = 0\n",
    "    total_nonsmoker_bmi = 0\n",
    "    total_nonsmokers = 0\n",
    "    for (x,y) in lst:\n",
    "        if x == 'yes':\n",
    "            total_smokers += 1\n",
    "            total_smoker_bmi += float(y)\n",
    "        elif x == 'no':\n",
    "            total_nonsmokers += 1\n",
    "            total_nonsmoker_bmi += float(y)\n",
    "    average_smokers_bmi = total_smoker_bmi/total_smokers\n",
    "    averagee_nonsmokers_bmi = total_nonsmoker_bmi/total_nonsmokers\n",
    "    return print('''\n",
    "    Out of {} Smokers, the average BMI was {}.\n",
    "    Out of {} Non-Smokers, the average BMI was {}.\n",
    "    '''.format(total_smokers,round(average_smokers_bmi,2),total_nonsmokers,round(averagee_nonsmokers_bmi,2)))\n",
    "smoker_bmi(s_and_bmi)\n",
    "            "
   ]
  },
  {
   "cell_type": "code",
   "execution_count": 153,
   "metadata": {},
   "outputs": [
    {
     "name": "stdout",
     "output_type": "stream",
     "text": [
      "\n",
      "    764 people have at least 1 child. Their average insurance cost is 13949.94.\n",
      "    \n"
     ]
    }
   ],
   "source": [
    "#Objective 4: Average charges for people with at least 1 child\n",
    "children = [int(x) for x in children]\n",
    "children_and_charges = list(zip(children,charges))\n",
    "def at_least_1_child(lst):\n",
    "    total_atleast_1 = 0\n",
    "    total_atleast_1_charges = 0\n",
    "    for (x,y) in lst:\n",
    "        if x >= 1:\n",
    "            total_atleast_1 += 1\n",
    "            total_atleast_1_charges += float(y)\n",
    "    average_atleast1_charges = total_atleast_1_charges/total_atleast_1\n",
    "    return print('''\n",
    "    {} people have at least 1 child. Their average insurance cost is {}.\n",
    "    '''.format(total_atleast_1,round(average_atleast1_charges,2)))\n",
    "at_least_1_child(children_and_charges)\n"
   ]
  },
  {
   "cell_type": "code",
   "execution_count": 185,
   "metadata": {},
   "outputs": [
    {
     "name": "stdout",
     "output_type": "stream",
     "text": [
      "There are 19 female smokers with no children from the southeast. Their average insurance costs are 36207.88\n"
     ]
    }
   ],
   "source": [
    "#5th: Average cost of female smokers with no children from the southeast.\n",
    "children = [int(x) for x in children]\n",
    "fscrc = list(zip(sex,smoker,children,region,charges))\n",
    "def specifics(lst):\n",
    "    total = 0\n",
    "    count = 0\n",
    "    for (a,b,c,d,e) in lst:\n",
    "        if a == 'female' and b == 'yes' and c == 0 and d == 'southeast':\n",
    "            count += 1\n",
    "            total += float(e)\n",
    "    average = total/count\n",
    "    return print('There are {} female smokers with no children from the southeast. Their average insurance costs are {}'.format(count,round(average,2)))\n",
    "specifics(fscrc)"
   ]
  },
  {
   "cell_type": "code",
   "execution_count": 212,
   "metadata": {},
   "outputs": [
    {
     "name": "stdout",
     "output_type": "stream",
     "text": [
      "\n",
      "Looking at the both values and their effects on insurance charges we see that:\n",
      "For non-smokers:\n",
      "People with 0 children pay on average: 7611.79\n",
      "People with 1 children pay on average: 8303.11\n",
      "People with 2 children pay on average: 9493.09\n",
      "People with 3 children pay on average: 9614.52\n",
      "People with 4 children pay on average: 12121.34\n",
      "People with 5 children pay on average: 8183.85\n",
      "For Smokers:\n",
      "People with 0 children pay on average: 31341.36\n",
      "People with 1 children pay on average: 31822.65\n",
      "People with 2 children pay on average: 33844.24\n",
      "People with 3 children pay on average: 32724.92\n",
      "People with 4 children pay on average: 26532.28\n",
      "People with 5 children pay on average: 19023.26\n",
      "\n",
      "It is clear from the results that smoking has a bigger influence on insurance charges than number of children. \n",
      "Smokers' costs are significantly bigger than non-smokers', and they do not flctuate much with the increase of the \n",
      "number of children.\n",
      "\n"
     ]
    }
   ],
   "source": [
    "#6th: What influences costs more; Number of children or smoking?\n",
    "s_c_c = list(zip(children, smoker, charges))\n",
    "\n",
    "def lst_generator(number_of_children,smoker):\n",
    "    new_lst = []\n",
    "    for (a,b,c) in s_c_c:\n",
    "        if a == number_of_children and b == smoker:\n",
    "            new_lst.append((a,b,c))\n",
    "    return new_lst\n",
    "\n",
    "non_smoker_0_children = lst_generator(0,'no')\n",
    "non_smoker_1_children = lst_generator(1,'no')\n",
    "non_smoker_2_children = lst_generator(2,'no')\n",
    "non_smoker_3_children = lst_generator(3,'no')\n",
    "non_smoker_4_children = lst_generator(4,'no')\n",
    "non_smoker_5_children = lst_generator(5,'no')\n",
    "smoker_0_children = lst_generator(0,'yes')\n",
    "smoker_1_children = lst_generator(1,'yes')\n",
    "smoker_2_children = lst_generator(2,'yes')\n",
    "smoker_3_children = lst_generator(3,'yes')\n",
    "smoker_4_children = lst_generator(4,'yes')\n",
    "smoker_5_children = lst_generator(5,'yes')\n",
    "\n",
    "def avg_lst(lst):\n",
    "    count = len(lst)\n",
    "    total = 0\n",
    "    for (a,b,c) in lst:\n",
    "        total += float(c)\n",
    "    average = round(total/count,2)\n",
    "    return average\n",
    "avg_non_smoker_0_children = avg_lst(non_smoker_0_children)\n",
    "avg_non_smoker_1_children = avg_lst(non_smoker_1_children)\n",
    "avg_non_smoker_2_children = avg_lst(non_smoker_2_children)\n",
    "avg_non_smoker_3_children = avg_lst(non_smoker_3_children)\n",
    "avg_non_smoker_4_children = avg_lst(non_smoker_4_children)\n",
    "avg_non_smoker_5_children = avg_lst(non_smoker_5_children)\n",
    "avg_smoker_0_children = avg_lst(smoker_0_children)\n",
    "avg_smoker_1_children = avg_lst(smoker_1_children)\n",
    "avg_smoker_2_children = avg_lst(smoker_2_children)\n",
    "avg_smoker_3_children = avg_lst(smoker_3_children)\n",
    "avg_smoker_4_children = avg_lst(smoker_4_children)\n",
    "avg_smoker_5_children = avg_lst(smoker_5_children)\n",
    "\n",
    "print('''\n",
    "Looking at the both values and their effects on insurance charges we see that:\n",
    "For non-smokers:\n",
    "People with 0 children pay on average: {}\n",
    "People with 1 children pay on average: {}\n",
    "People with 2 children pay on average: {}\n",
    "People with 3 children pay on average: {}\n",
    "People with 4 children pay on average: {}\n",
    "People with 5 children pay on average: {}\n",
    "For Smokers:\n",
    "People with 0 children pay on average: {}\n",
    "People with 1 children pay on average: {}\n",
    "People with 2 children pay on average: {}\n",
    "People with 3 children pay on average: {}\n",
    "People with 4 children pay on average: {}\n",
    "People with 5 children pay on average: {}\n",
    "\n",
    "It is clear from the results that smoking has a bigger influence on insurance charges than number of children. \n",
    "Smokers' costs are significantly bigger than non-smokers', and they do not flctuate much with the increase of the \n",
    "number of children.\n",
    "'''.format(\n",
    "avg_non_smoker_0_children,avg_non_smoker_1_children,avg_non_smoker_2_children,avg_non_smoker_3_children,\n",
    "    avg_non_smoker_4_children,avg_non_smoker_5_children, avg_smoker_0_children,avg_smoker_1_children, \n",
    "    avg_smoker_2_children,avg_smoker_3_children,avg_smoker_4_children,avg_smoker_5_children))"
   ]
  },
  {
   "cell_type": "code",
   "execution_count": null,
   "metadata": {},
   "outputs": [],
   "source": []
  }
 ],
 "metadata": {
  "kernelspec": {
   "display_name": "Python 3",
   "language": "python",
   "name": "python3"
  },
  "language_info": {
   "codemirror_mode": {
    "name": "ipython",
    "version": 3
   },
   "file_extension": ".py",
   "mimetype": "text/x-python",
   "name": "python",
   "nbconvert_exporter": "python",
   "pygments_lexer": "ipython3",
   "version": "3.8.5"
  }
 },
 "nbformat": 4,
 "nbformat_minor": 4
}
